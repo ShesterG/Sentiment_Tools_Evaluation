{
  "nbformat": 4,
  "nbformat_minor": 0,
  "metadata": {
    "kernelspec": {
      "display_name": "Python 3",
      "language": "python",
      "name": "python3"
    },
    "language_info": {
      "codemirror_mode": {
        "name": "ipython",
        "version": 3
      },
      "file_extension": ".py",
      "mimetype": "text/x-python",
      "name": "python",
      "nbconvert_exporter": "python",
      "pygments_lexer": "ipython3",
      "version": "3.7.4"
    },
    "colab": {
      "name": "sentiment_analyzer.ipynb",
      "provenance": [],
      "include_colab_link": true
    }
  },
  "cells": [
    {
      "cell_type": "markdown",
      "metadata": {
        "id": "view-in-github",
        "colab_type": "text"
      },
      "source": [
        "<a href=\"https://colab.research.google.com/github/ShesterG/Sentiment_Tools_Evaluation/blob/master/scratch_work/sentiment_analyzer.ipynb\" target=\"_parent\"><img src=\"https://colab.research.google.com/assets/colab-badge.svg\" alt=\"Open In Colab\"/></a>"
      ]
    },
    {
      "cell_type": "code",
      "metadata": {
        "id": "fZUjoTsRzRj_",
        "colab": {
          "base_uri": "https://localhost:8080/"
        },
        "outputId": "c1fad473-2ce2-444e-a903-bf070c189ae7"
      },
      "source": [
        "from google.colab import drive\n",
        "drive.mount(\"/content/drive\", force_remount=True)"
      ],
      "execution_count": 1,
      "outputs": [
        {
          "output_type": "stream",
          "text": [
            "Mounted at /content/drive\n"
          ],
          "name": "stdout"
        }
      ]
    },
    {
      "cell_type": "code",
      "metadata": {
        "id": "jowcDJCszwrI",
        "colab": {
          "base_uri": "https://localhost:8080/"
        },
        "outputId": "45fd4233-1e20-42f7-90dc-2762c472ba06"
      },
      "source": [
        "!pip3 install config"
      ],
      "execution_count": 2,
      "outputs": [
        {
          "output_type": "stream",
          "text": [
            "Requirement already satisfied: config in /usr/local/lib/python3.7/dist-packages (0.5.0.post0)\n"
          ],
          "name": "stdout"
        }
      ]
    },
    {
      "cell_type": "code",
      "metadata": {
        "id": "FxF8pmvZ0TvR",
        "colab": {
          "base_uri": "https://localhost:8080/"
        },
        "outputId": "a0b140c1-3bbe-43af-d27d-13766492de3e"
      },
      "source": [
        "!pip install vaderSentiment"
      ],
      "execution_count": 3,
      "outputs": [
        {
          "output_type": "stream",
          "text": [
            "Requirement already satisfied: vaderSentiment in /usr/local/lib/python3.7/dist-packages (3.3.2)\n",
            "Requirement already satisfied: requests in /usr/local/lib/python3.7/dist-packages (from vaderSentiment) (2.23.0)\n",
            "Requirement already satisfied: urllib3!=1.25.0,!=1.25.1,<1.26,>=1.21.1 in /usr/local/lib/python3.7/dist-packages (from requests->vaderSentiment) (1.24.3)\n",
            "Requirement already satisfied: chardet<4,>=3.0.2 in /usr/local/lib/python3.7/dist-packages (from requests->vaderSentiment) (3.0.4)\n",
            "Requirement already satisfied: certifi>=2017.4.17 in /usr/local/lib/python3.7/dist-packages (from requests->vaderSentiment) (2021.5.30)\n",
            "Requirement already satisfied: idna<3,>=2.5 in /usr/local/lib/python3.7/dist-packages (from requests->vaderSentiment) (2.10)\n"
          ],
          "name": "stdout"
        }
      ]
    },
    {
      "cell_type": "code",
      "metadata": {
        "id": "ZIEFEXiozJTo"
      },
      "source": [
        "import pandas as pd\n",
        "import glob\n",
        "import sys\n",
        "sys.path.append('../../')\n",
        "import config\n",
        "import warnings\n",
        "import numpy as np\n",
        "import matplotlib.pyplot as plt\n",
        "import seaborn as sns\n",
        "warnings.filterwarnings('ignore')\n",
        "from textblob import TextBlob\n",
        "from vaderSentiment.vaderSentiment import SentimentIntensityAnalyzer\n",
        "from sklearn.metrics import confusion_matrix, accuracy_score,classification_report,f1_score"
      ],
      "execution_count": 4,
      "outputs": []
    },
    {
      "cell_type": "code",
      "metadata": {
        "id": "mEILAGGx0-dW"
      },
      "source": [
        "DATA_FILE_PATH = '/content/drive/MyDrive/NLPGh/'\n",
        "CLEAN_DATA_FILE_NAME = 'Book8Clean.csv'\n",
        "SAVE_FILE = True\n",
        "TOKENIZED_DATA_FILE_NAME = 'Book8Tokenized.csv'"
      ],
      "execution_count": 5,
      "outputs": []
    },
    {
      "cell_type": "code",
      "metadata": {
        "id": "Sr61DDSS1Eic"
      },
      "source": [
        "reviews = pd.read_csv(DATA_FILE_PATH + TOKENIZED_DATA_FILE_NAME)"
      ],
      "execution_count": 6,
      "outputs": []
    },
    {
      "cell_type": "code",
      "metadata": {
        "id": "pguWdb9I1LvQ"
      },
      "source": [
        "pd.set_option('display.max_colwidth', None)"
      ],
      "execution_count": 7,
      "outputs": []
    },
    {
      "cell_type": "code",
      "metadata": {
        "id": "BK0oRQmozJTx",
        "colab": {
          "base_uri": "https://localhost:8080/",
          "height": 408
        },
        "outputId": "20f4746f-51cd-4c38-e849-e05617a22e91"
      },
      "source": [
        "reviews.head()"
      ],
      "execution_count": 8,
      "outputs": [
        {
          "output_type": "execute_result",
          "data": {
            "text/html": [
              "<div>\n",
              "<style scoped>\n",
              "    .dataframe tbody tr th:only-of-type {\n",
              "        vertical-align: middle;\n",
              "    }\n",
              "\n",
              "    .dataframe tbody tr th {\n",
              "        vertical-align: top;\n",
              "    }\n",
              "\n",
              "    .dataframe thead th {\n",
              "        text-align: right;\n",
              "    }\n",
              "</style>\n",
              "<table border=\"1\" class=\"dataframe\">\n",
              "  <thead>\n",
              "    <tr style=\"text-align: right;\">\n",
              "      <th></th>\n",
              "      <th>Unnamed: 0</th>\n",
              "      <th>tweet</th>\n",
              "      <th>location_x</th>\n",
              "      <th>pretweet</th>\n",
              "      <th>candidate</th>\n",
              "      <th>LRPredScore</th>\n",
              "      <th>LRConfi</th>\n",
              "      <th>Sentiment</th>\n",
              "      <th>Unnamed: 8</th>\n",
              "      <th>tokens</th>\n",
              "    </tr>\n",
              "  </thead>\n",
              "  <tbody>\n",
              "    <tr>\n",
              "      <th>0</th>\n",
              "      <td>0</td>\n",
              "      <td>@NsiaAvena @NAkufoAddo They don't know anything about peace</td>\n",
              "      <td>NaN</td>\n",
              "      <td>they dont know anyth about peac</td>\n",
              "      <td>Nana</td>\n",
              "      <td>NaN</td>\n",
              "      <td>NaN</td>\n",
              "      <td>-1</td>\n",
              "      <td>NaN</td>\n",
              "      <td>['they', 'dont', 'know', 'anyth', 'about', 'peac']</td>\n",
              "    </tr>\n",
              "    <tr>\n",
              "      <th>1</th>\n",
              "      <td>4</td>\n",
              "      <td>@BarrowPresident @NAkufoAddo good to go may God bless an protect you</td>\n",
              "      <td>NaN</td>\n",
              "      <td>good may god bless protect you</td>\n",
              "      <td>Nana</td>\n",
              "      <td>NaN</td>\n",
              "      <td>NaN</td>\n",
              "      <td>1</td>\n",
              "      <td>NaN</td>\n",
              "      <td>['good', 'may', 'god', 'bless', 'protect', 'you']</td>\n",
              "    </tr>\n",
              "    <tr>\n",
              "      <th>2</th>\n",
              "      <td>10</td>\n",
              "      <td>Mr President, receive the GRACE OF GOD ALMIGHTY to do what HE HAS ordain you for in Jesus Mighty Name Ã°Å¸â¢ï¿½@NakufoAddo https://t.co/O1cfDfhsMR</td>\n",
              "      <td>Accra, Ghana</td>\n",
              "      <td>presid receiv the grace god almighti what ha ordain you for jesu mighti name</td>\n",
              "      <td>Nana</td>\n",
              "      <td>1.0</td>\n",
              "      <td>1.0</td>\n",
              "      <td>1</td>\n",
              "      <td>NaN</td>\n",
              "      <td>['presid', 'receiv', 'the', 'grace', 'god', 'almighti', 'what', 'ha', 'ordain', 'you', 'for', 'jesu', 'mighti', 'name']</td>\n",
              "    </tr>\n",
              "    <tr>\n",
              "      <th>3</th>\n",
              "      <td>11</td>\n",
              "      <td>@stonebwoyb @NAkufoAddo 1gad I can't believe it,u are congratulations dem de Npp party are corrupt</td>\n",
              "      <td>NaN</td>\n",
              "      <td>gad cant believ itu are congratul dem npp parti are corrupt</td>\n",
              "      <td>Nana</td>\n",
              "      <td>-1.0</td>\n",
              "      <td>1.0</td>\n",
              "      <td>-1</td>\n",
              "      <td>NaN</td>\n",
              "      <td>['gad', 'cant', 'believ', 'itu', 'are', 'congratul', 'dem', 'npp', 'parti', 'are', 'corrupt']</td>\n",
              "    </tr>\n",
              "    <tr>\n",
              "      <th>4</th>\n",
              "      <td>12</td>\n",
              "      <td>@NAkufoAddo Please may God continue to strengthen you to do more please Ã°Å¸â¢ï¿½</td>\n",
              "      <td>NaN</td>\n",
              "      <td>pleas may god continu strengthen you more pleas</td>\n",
              "      <td>Nana</td>\n",
              "      <td>-2.0</td>\n",
              "      <td>1.0</td>\n",
              "      <td>1</td>\n",
              "      <td>NaN</td>\n",
              "      <td>['pleas', 'may', 'god', 'continu', 'strengthen', 'you', 'more', 'pleas']</td>\n",
              "    </tr>\n",
              "  </tbody>\n",
              "</table>\n",
              "</div>"
            ],
            "text/plain": [
              "   Unnamed: 0  ...                                                                                                                   tokens\n",
              "0           0  ...                                                                       ['they', 'dont', 'know', 'anyth', 'about', 'peac']\n",
              "1           4  ...                                                                        ['good', 'may', 'god', 'bless', 'protect', 'you']\n",
              "2          10  ...  ['presid', 'receiv', 'the', 'grace', 'god', 'almighti', 'what', 'ha', 'ordain', 'you', 'for', 'jesu', 'mighti', 'name']\n",
              "3          11  ...                            ['gad', 'cant', 'believ', 'itu', 'are', 'congratul', 'dem', 'npp', 'parti', 'are', 'corrupt']\n",
              "4          12  ...                                                 ['pleas', 'may', 'god', 'continu', 'strengthen', 'you', 'more', 'pleas']\n",
              "\n",
              "[5 rows x 10 columns]"
            ]
          },
          "metadata": {
            "tags": []
          },
          "execution_count": 8
        }
      ]
    },
    {
      "cell_type": "code",
      "metadata": {
        "id": "kPNIvfgUzJT2"
      },
      "source": [
        "minimum_value = reviews['Sentiment'].value_counts().min()"
      ],
      "execution_count": 9,
      "outputs": []
    },
    {
      "cell_type": "code",
      "metadata": {
        "id": "2lYlEErRzJT3"
      },
      "source": [
        "def sample_minimum(reviews):\n",
        "    return reviews.sample(minimum_value)\n",
        "\n",
        "    "
      ],
      "execution_count": 10,
      "outputs": []
    },
    {
      "cell_type": "code",
      "metadata": {
        "id": "rNxP5xHozJT4"
      },
      "source": [
        "g = reviews.groupby('Sentiment')"
      ],
      "execution_count": 11,
      "outputs": []
    },
    {
      "cell_type": "code",
      "metadata": {
        "id": "BSjdhC1pzJT4",
        "colab": {
          "base_uri": "https://localhost:8080/",
          "height": 765
        },
        "outputId": "020c1e83-b053-48f4-fea6-3570137851f6"
      },
      "source": [
        "new_df = g.apply(sample_minimum).reset_index(drop=True)\n",
        "new_df.head()"
      ],
      "execution_count": 12,
      "outputs": [
        {
          "output_type": "execute_result",
          "data": {
            "text/html": [
              "<div>\n",
              "<style scoped>\n",
              "    .dataframe tbody tr th:only-of-type {\n",
              "        vertical-align: middle;\n",
              "    }\n",
              "\n",
              "    .dataframe tbody tr th {\n",
              "        vertical-align: top;\n",
              "    }\n",
              "\n",
              "    .dataframe thead th {\n",
              "        text-align: right;\n",
              "    }\n",
              "</style>\n",
              "<table border=\"1\" class=\"dataframe\">\n",
              "  <thead>\n",
              "    <tr style=\"text-align: right;\">\n",
              "      <th></th>\n",
              "      <th>Unnamed: 0</th>\n",
              "      <th>tweet</th>\n",
              "      <th>location_x</th>\n",
              "      <th>pretweet</th>\n",
              "      <th>candidate</th>\n",
              "      <th>LRPredScore</th>\n",
              "      <th>LRConfi</th>\n",
              "      <th>Sentiment</th>\n",
              "      <th>Unnamed: 8</th>\n",
              "      <th>tokens</th>\n",
              "    </tr>\n",
              "  </thead>\n",
              "  <tbody>\n",
              "    <tr>\n",
              "      <th>0</th>\n",
              "      <td>13102</td>\n",
              "      <td>@tabi_henry @Joy997FM @NAkufoAddo @MrKwakuKyei1 Simply put, it's only the corrupt like you that believes corruptionÃ¢â¬Â¦ https://t.co/oRhIXbYJ7D</td>\n",
              "      <td>Accra ,Ghana</td>\n",
              "      <td>simpli put it onli the corrupt like you that believ corrupt</td>\n",
              "      <td>Nana</td>\n",
              "      <td>-2.0</td>\n",
              "      <td>1.0</td>\n",
              "      <td>-1</td>\n",
              "      <td>NaN</td>\n",
              "      <td>['simpli', 'put', 'it', 'onli', 'the', 'corrupt', 'like', 'you', 'that', 'believ', 'corrupt']</td>\n",
              "    </tr>\n",
              "    <tr>\n",
              "      <th>1</th>\n",
              "      <td>88389</td>\n",
              "      <td>@tv3_ghana @JDMahama You see demma faces den reaction as the sirens the make louder Ã°Å¸ËâÃ°Å¸ËâÃ°Å¸ËâÃ°Å¸ââ lowkey dem dey fear Ã¢ï¿½âÃ¯Â¸ï¿½Ã¢ï¿½âÃ¯Â¸ï¿½</td>\n",
              "      <td>In the clouds Ã°Å¸ÅÂ«Ã¯Â¸ï¿½</td>\n",
              "      <td>you see demma face den reaction the siren the make louder lowkey dem dey fear</td>\n",
              "      <td>John</td>\n",
              "      <td>-2.0</td>\n",
              "      <td>1.0</td>\n",
              "      <td>-1</td>\n",
              "      <td>NaN</td>\n",
              "      <td>['you', 'see', 'demma', 'face', 'den', 'reaction', 'the', 'siren', 'the', 'make', 'louder', 'lowkey', 'dem', 'dey', 'fear']</td>\n",
              "    </tr>\n",
              "    <tr>\n",
              "      <th>2</th>\n",
              "      <td>73347</td>\n",
              "      <td>@Bridget_Otoo @JDMahama @NJOAgyemang Tolerance? Try defending or supporting NPP next time and u will see fire fromÃ¢â¬Â¦ https://t.co/Kh99MwFLeH</td>\n",
              "      <td>London</td>\n",
              "      <td>toler tri defend support npp next time and will see fire from</td>\n",
              "      <td>John</td>\n",
              "      <td>1.0</td>\n",
              "      <td>1.0</td>\n",
              "      <td>-1</td>\n",
              "      <td>NaN</td>\n",
              "      <td>['toler', 'tri', 'defend', 'support', 'npp', 'next', 'time', 'and', 'will', 'see', 'fire', 'from']</td>\n",
              "    </tr>\n",
              "    <tr>\n",
              "      <th>3</th>\n",
              "      <td>5387</td>\n",
              "      <td>So once again @NAkufoAddo has frustrated Matin Amidu out of office.\\n\\nSad sad sad \\n\\nThe Mr. Incorruptible sold to usÃ¢â¬Â¦ https://t.co/SmzABIpkGd</td>\n",
              "      <td>Accra, Ghana</td>\n",
              "      <td>onc again ha frustrat matin amidu out offic sad sad sad the mr incorrupt sold us</td>\n",
              "      <td>Nana</td>\n",
              "      <td>-3.0</td>\n",
              "      <td>1.0</td>\n",
              "      <td>-1</td>\n",
              "      <td>NaN</td>\n",
              "      <td>['onc', 'again', 'ha', 'frustrat', 'matin', 'amidu', 'out', 'offic', 'sad', 'sad', 'sad', 'the', 'mr', 'incorrupt', 'sold', 'us']</td>\n",
              "    </tr>\n",
              "    <tr>\n",
              "      <th>4</th>\n",
              "      <td>83036</td>\n",
              "      <td>In fact\\n\\n@JDMahama main agenda is to steal, kill and destroy\\n\\nLets reject the desperate last min man. https://t.co/uN5vTOXmDM</td>\n",
              "      <td>NaN</td>\n",
              "      <td>fact main agenda steal kill and destroy let reject the desper last min man</td>\n",
              "      <td>John</td>\n",
              "      <td>-2.0</td>\n",
              "      <td>1.0</td>\n",
              "      <td>-1</td>\n",
              "      <td>NaN</td>\n",
              "      <td>['fact', 'main', 'agenda', 'steal', 'kill', 'and', 'destroy', 'let', 'reject', 'the', 'desper', 'last', 'min', 'man']</td>\n",
              "    </tr>\n",
              "  </tbody>\n",
              "</table>\n",
              "</div>"
            ],
            "text/plain": [
              "   Unnamed: 0  ...                                                                                                                             tokens\n",
              "0       13102  ...                                      ['simpli', 'put', 'it', 'onli', 'the', 'corrupt', 'like', 'you', 'that', 'believ', 'corrupt']\n",
              "1       88389  ...        ['you', 'see', 'demma', 'face', 'den', 'reaction', 'the', 'siren', 'the', 'make', 'louder', 'lowkey', 'dem', 'dey', 'fear']\n",
              "2       73347  ...                                 ['toler', 'tri', 'defend', 'support', 'npp', 'next', 'time', 'and', 'will', 'see', 'fire', 'from']\n",
              "3        5387  ...  ['onc', 'again', 'ha', 'frustrat', 'matin', 'amidu', 'out', 'offic', 'sad', 'sad', 'sad', 'the', 'mr', 'incorrupt', 'sold', 'us']\n",
              "4       83036  ...              ['fact', 'main', 'agenda', 'steal', 'kill', 'and', 'destroy', 'let', 'reject', 'the', 'desper', 'last', 'min', 'man']\n",
              "\n",
              "[5 rows x 10 columns]"
            ]
          },
          "metadata": {
            "tags": []
          },
          "execution_count": 12
        }
      ]
    },
    {
      "cell_type": "code",
      "metadata": {
        "id": "ZoWb5XY2zJT5",
        "colab": {
          "base_uri": "https://localhost:8080/"
        },
        "outputId": "6a6b24eb-d8c9-4233-b2f2-8b0bee130ca3"
      },
      "source": [
        "new_df['Sentiment'].value_counts()"
      ],
      "execution_count": 13,
      "outputs": [
        {
          "output_type": "execute_result",
          "data": {
            "text/plain": [
              " 1    1000\n",
              "-1    1000\n",
              "Name: Sentiment, dtype: int64"
            ]
          },
          "metadata": {
            "tags": []
          },
          "execution_count": 13
        }
      ]
    },
    {
      "cell_type": "markdown",
      "metadata": {
        "id": "LP1VlMv7zJT6"
      },
      "source": [
        "### For VADERSentiment"
      ]
    },
    {
      "cell_type": "code",
      "metadata": {
        "id": "V24g6E4hzJT7"
      },
      "source": [
        "analyser = SentimentIntensityAnalyzer()\n"
      ],
      "execution_count": 14,
      "outputs": []
    },
    {
      "cell_type": "code",
      "metadata": {
        "id": "LwL29SjnzJT7"
      },
      "source": [
        "def vader_sentiment(text):\n",
        "    score = analyser.polarity_scores(text)\n",
        "    if score['compound'] > 0:\n",
        "        result = 1\n",
        "    else:\n",
        "        result = -1\n",
        "    return result"
      ],
      "execution_count": 15,
      "outputs": []
    },
    {
      "cell_type": "markdown",
      "metadata": {
        "id": "KpU1ch3rzJT8"
      },
      "source": [
        "### For TextBlob"
      ]
    },
    {
      "cell_type": "code",
      "metadata": {
        "id": "r1zjKvRTzJT8"
      },
      "source": [
        "def text_blob(text):\n",
        "    score = TextBlob(text).sentiment.polarity\n",
        "    if score > 0:\n",
        "        result = 1\n",
        "    else:\n",
        "        result = -1\n",
        "    return result"
      ],
      "execution_count": 16,
      "outputs": []
    },
    {
      "cell_type": "markdown",
      "metadata": {
        "id": "ZH-KMsF0zJT9"
      },
      "source": [
        "### Analysis and Evaluation\n"
      ]
    },
    {
      "cell_type": "code",
      "metadata": {
        "id": "dY4BI4enzJUA"
      },
      "source": [
        "new_df['vader_sent'] = new_df['tokens'].apply(vader_sentiment)\n",
        "new_df['textblob_sent'] = new_df['tokens'].apply(text_blob)\n"
      ],
      "execution_count": 17,
      "outputs": []
    },
    {
      "cell_type": "code",
      "metadata": {
        "id": "L4BKlSGMzJUD"
      },
      "source": [
        "col = ['vader_sent','textblob_sent']\n",
        "def pd_score(df,col,target):\n",
        "    score = []\n",
        "    for items in col:\n",
        "        rate = accuracy_score(target, df[items])\n",
        "        score.append(rate)\n",
        "    scores = pd.Series(score, index=['VADER', 'TextBlob'])\n",
        "    return scores\n",
        "    "
      ],
      "execution_count": 18,
      "outputs": []
    },
    {
      "cell_type": "code",
      "metadata": {
        "id": "efknKG0_zJUF"
      },
      "source": [
        "scores = pd_score(new_df,col,new_df['Sentiment'])"
      ],
      "execution_count": 19,
      "outputs": []
    },
    {
      "cell_type": "code",
      "metadata": {
        "id": "N_jfMTZuzJUG"
      },
      "source": [
        "rate = accuracy_score(new_df['Sentiment'], new_df['vader_sent'])"
      ],
      "execution_count": 20,
      "outputs": []
    },
    {
      "cell_type": "code",
      "metadata": {
        "id": "VCLlKr2YzJUH",
        "colab": {
          "base_uri": "https://localhost:8080/"
        },
        "outputId": "cb438e7f-2e30-4f54-be4f-c3eb4f0c1c1d"
      },
      "source": [
        "rate"
      ],
      "execution_count": 21,
      "outputs": [
        {
          "output_type": "execute_result",
          "data": {
            "text/plain": [
              "0.7695"
            ]
          },
          "metadata": {
            "tags": []
          },
          "execution_count": 21
        }
      ]
    },
    {
      "cell_type": "code",
      "metadata": {
        "id": "0xy6WGWWzJUI"
      },
      "source": [
        "rate = accuracy_score(new_df['Sentiment'], new_df['textblob_sent'])"
      ],
      "execution_count": 22,
      "outputs": []
    },
    {
      "cell_type": "code",
      "metadata": {
        "id": "1asYlZMyzJUI",
        "colab": {
          "base_uri": "https://localhost:8080/"
        },
        "outputId": "aaea2991-e752-4e42-9d00-28dbe9aeed14"
      },
      "source": [
        "rate"
      ],
      "execution_count": 23,
      "outputs": [
        {
          "output_type": "execute_result",
          "data": {
            "text/plain": [
              "0.7095"
            ]
          },
          "metadata": {
            "tags": []
          },
          "execution_count": 23
        }
      ]
    },
    {
      "cell_type": "code",
      "metadata": {
        "id": "FmNfhkFuzJUK",
        "outputId": "c70ca3ad-9828-4907-fe00-4441b3830061",
        "colab": {
          "base_uri": "https://localhost:8080/",
          "height": 1000
        }
      },
      "source": [
        "new_df.head()"
      ],
      "execution_count": 24,
      "outputs": [
        {
          "output_type": "execute_result",
          "data": {
            "text/html": [
              "<div>\n",
              "<style scoped>\n",
              "    .dataframe tbody tr th:only-of-type {\n",
              "        vertical-align: middle;\n",
              "    }\n",
              "\n",
              "    .dataframe tbody tr th {\n",
              "        vertical-align: top;\n",
              "    }\n",
              "\n",
              "    .dataframe thead th {\n",
              "        text-align: right;\n",
              "    }\n",
              "</style>\n",
              "<table border=\"1\" class=\"dataframe\">\n",
              "  <thead>\n",
              "    <tr style=\"text-align: right;\">\n",
              "      <th></th>\n",
              "      <th>Unnamed: 0</th>\n",
              "      <th>tweet</th>\n",
              "      <th>location_x</th>\n",
              "      <th>pretweet</th>\n",
              "      <th>candidate</th>\n",
              "      <th>LRPredScore</th>\n",
              "      <th>LRConfi</th>\n",
              "      <th>Sentiment</th>\n",
              "      <th>Unnamed: 8</th>\n",
              "      <th>tokens</th>\n",
              "      <th>vader_sent</th>\n",
              "      <th>textblob_sent</th>\n",
              "    </tr>\n",
              "  </thead>\n",
              "  <tbody>\n",
              "    <tr>\n",
              "      <th>0</th>\n",
              "      <td>13102</td>\n",
              "      <td>@tabi_henry @Joy997FM @NAkufoAddo @MrKwakuKyei1 Simply put, it's only the corrupt like you that believes corruptionÃ¢â¬Â¦ https://t.co/oRhIXbYJ7D</td>\n",
              "      <td>Accra ,Ghana</td>\n",
              "      <td>simpli put it onli the corrupt like you that believ corrupt</td>\n",
              "      <td>Nana</td>\n",
              "      <td>-2.0</td>\n",
              "      <td>1.0</td>\n",
              "      <td>-1</td>\n",
              "      <td>NaN</td>\n",
              "      <td>['simpli', 'put', 'it', 'onli', 'the', 'corrupt', 'like', 'you', 'that', 'believ', 'corrupt']</td>\n",
              "      <td>1</td>\n",
              "      <td>-1</td>\n",
              "    </tr>\n",
              "    <tr>\n",
              "      <th>1</th>\n",
              "      <td>88389</td>\n",
              "      <td>@tv3_ghana @JDMahama You see demma faces den reaction as the sirens the make louder Ã°Å¸ËâÃ°Å¸ËâÃ°Å¸ËâÃ°Å¸ââ lowkey dem dey fear Ã¢ï¿½âÃ¯Â¸ï¿½Ã¢ï¿½âÃ¯Â¸ï¿½</td>\n",
              "      <td>In the clouds Ã°Å¸ÅÂ«Ã¯Â¸ï¿½</td>\n",
              "      <td>you see demma face den reaction the siren the make louder lowkey dem dey fear</td>\n",
              "      <td>John</td>\n",
              "      <td>-2.0</td>\n",
              "      <td>1.0</td>\n",
              "      <td>-1</td>\n",
              "      <td>NaN</td>\n",
              "      <td>['you', 'see', 'demma', 'face', 'den', 'reaction', 'the', 'siren', 'the', 'make', 'louder', 'lowkey', 'dem', 'dey', 'fear']</td>\n",
              "      <td>-1</td>\n",
              "      <td>-1</td>\n",
              "    </tr>\n",
              "    <tr>\n",
              "      <th>2</th>\n",
              "      <td>73347</td>\n",
              "      <td>@Bridget_Otoo @JDMahama @NJOAgyemang Tolerance? Try defending or supporting NPP next time and u will see fire fromÃ¢â¬Â¦ https://t.co/Kh99MwFLeH</td>\n",
              "      <td>London</td>\n",
              "      <td>toler tri defend support npp next time and will see fire from</td>\n",
              "      <td>John</td>\n",
              "      <td>1.0</td>\n",
              "      <td>1.0</td>\n",
              "      <td>-1</td>\n",
              "      <td>NaN</td>\n",
              "      <td>['toler', 'tri', 'defend', 'support', 'npp', 'next', 'time', 'and', 'will', 'see', 'fire', 'from']</td>\n",
              "      <td>1</td>\n",
              "      <td>-1</td>\n",
              "    </tr>\n",
              "    <tr>\n",
              "      <th>3</th>\n",
              "      <td>5387</td>\n",
              "      <td>So once again @NAkufoAddo has frustrated Matin Amidu out of office.\\n\\nSad sad sad \\n\\nThe Mr. Incorruptible sold to usÃ¢â¬Â¦ https://t.co/SmzABIpkGd</td>\n",
              "      <td>Accra, Ghana</td>\n",
              "      <td>onc again ha frustrat matin amidu out offic sad sad sad the mr incorrupt sold us</td>\n",
              "      <td>Nana</td>\n",
              "      <td>-3.0</td>\n",
              "      <td>1.0</td>\n",
              "      <td>-1</td>\n",
              "      <td>NaN</td>\n",
              "      <td>['onc', 'again', 'ha', 'frustrat', 'matin', 'amidu', 'out', 'offic', 'sad', 'sad', 'sad', 'the', 'mr', 'incorrupt', 'sold', 'us']</td>\n",
              "      <td>-1</td>\n",
              "      <td>-1</td>\n",
              "    </tr>\n",
              "    <tr>\n",
              "      <th>4</th>\n",
              "      <td>83036</td>\n",
              "      <td>In fact\\n\\n@JDMahama main agenda is to steal, kill and destroy\\n\\nLets reject the desperate last min man. https://t.co/uN5vTOXmDM</td>\n",
              "      <td>NaN</td>\n",
              "      <td>fact main agenda steal kill and destroy let reject the desper last min man</td>\n",
              "      <td>John</td>\n",
              "      <td>-2.0</td>\n",
              "      <td>1.0</td>\n",
              "      <td>-1</td>\n",
              "      <td>NaN</td>\n",
              "      <td>['fact', 'main', 'agenda', 'steal', 'kill', 'and', 'destroy', 'let', 'reject', 'the', 'desper', 'last', 'min', 'man']</td>\n",
              "      <td>-1</td>\n",
              "      <td>-1</td>\n",
              "    </tr>\n",
              "  </tbody>\n",
              "</table>\n",
              "</div>"
            ],
            "text/plain": [
              "   Unnamed: 0  ... textblob_sent\n",
              "0       13102  ...            -1\n",
              "1       88389  ...            -1\n",
              "2       73347  ...            -1\n",
              "3        5387  ...            -1\n",
              "4       83036  ...            -1\n",
              "\n",
              "[5 rows x 12 columns]"
            ]
          },
          "metadata": {
            "tags": []
          },
          "execution_count": 24
        }
      ]
    },
    {
      "cell_type": "code",
      "metadata": {
        "id": "PfVMdB2mzJUN",
        "colab": {
          "base_uri": "https://localhost:8080/"
        },
        "outputId": "5d860d10-b76c-4202-b11d-b4b7d4224aa4"
      },
      "source": [
        "confusion_matrix(new_df['Sentiment'], new_df['vader_sent'])"
      ],
      "execution_count": 25,
      "outputs": [
        {
          "output_type": "execute_result",
          "data": {
            "text/plain": [
              "array([[773, 227],\n",
              "       [234, 766]])"
            ]
          },
          "metadata": {
            "tags": []
          },
          "execution_count": 25
        }
      ]
    },
    {
      "cell_type": "code",
      "metadata": {
        "id": "4MvKs38czJUO",
        "colab": {
          "base_uri": "https://localhost:8080/"
        },
        "outputId": "f86200d7-da90-4b84-c635-f19b9d0ca9a8"
      },
      "source": [
        "confusion_matrix(new_df['Sentiment'], new_df['textblob_sent'])"
      ],
      "execution_count": 26,
      "outputs": [
        {
          "output_type": "execute_result",
          "data": {
            "text/plain": [
              "array([[723, 277],\n",
              "       [304, 696]])"
            ]
          },
          "metadata": {
            "tags": []
          },
          "execution_count": 26
        }
      ]
    },
    {
      "cell_type": "code",
      "metadata": {
        "id": "jxkHRLO1zJUP",
        "colab": {
          "base_uri": "https://localhost:8080/"
        },
        "outputId": "42e62050-93ac-4f74-e3d1-a0f5963d4b9b"
      },
      "source": [
        "print(classification_report(new_df['Sentiment'], new_df['vader_sent']))"
      ],
      "execution_count": 27,
      "outputs": [
        {
          "output_type": "stream",
          "text": [
            "              precision    recall  f1-score   support\n",
            "\n",
            "          -1       0.77      0.77      0.77      1000\n",
            "           1       0.77      0.77      0.77      1000\n",
            "\n",
            "    accuracy                           0.77      2000\n",
            "   macro avg       0.77      0.77      0.77      2000\n",
            "weighted avg       0.77      0.77      0.77      2000\n",
            "\n"
          ],
          "name": "stdout"
        }
      ]
    },
    {
      "cell_type": "code",
      "metadata": {
        "id": "rSib-YYmzJUP",
        "colab": {
          "base_uri": "https://localhost:8080/"
        },
        "outputId": "e02e5686-890b-42c8-f96c-395a0261f804"
      },
      "source": [
        "print(classification_report(new_df['Sentiment'], new_df['textblob_sent']))"
      ],
      "execution_count": 28,
      "outputs": [
        {
          "output_type": "stream",
          "text": [
            "              precision    recall  f1-score   support\n",
            "\n",
            "          -1       0.70      0.72      0.71      1000\n",
            "           1       0.72      0.70      0.71      1000\n",
            "\n",
            "    accuracy                           0.71      2000\n",
            "   macro avg       0.71      0.71      0.71      2000\n",
            "weighted avg       0.71      0.71      0.71      2000\n",
            "\n"
          ],
          "name": "stdout"
        }
      ]
    }
  ]
}