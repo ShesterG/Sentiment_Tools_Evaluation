{
  "nbformat": 4,
  "nbformat_minor": 0,
  "metadata": {
    "kernelspec": {
      "display_name": "Python 3",
      "language": "python",
      "name": "python3"
    },
    "language_info": {
      "codemirror_mode": {
        "name": "ipython",
        "version": 3
      },
      "file_extension": ".py",
      "mimetype": "text/x-python",
      "name": "python",
      "nbconvert_exporter": "python",
      "pygments_lexer": "ipython3",
      "version": "3.7.4"
    },
    "colab": {
      "name": "sentiment_analyzer.ipynb",
      "provenance": [],
      "include_colab_link": true
    }
  },
  "cells": [
    {
      "cell_type": "markdown",
      "metadata": {
        "id": "view-in-github",
        "colab_type": "text"
      },
      "source": [
        "<a href=\"https://colab.research.google.com/github/ShesterG/Sentiment_Tools_Evaluation/blob/master/scratch_work/sentiment_analyzer.ipynb\" target=\"_parent\"><img src=\"https://colab.research.google.com/assets/colab-badge.svg\" alt=\"Open In Colab\"/></a>"
      ]
    },
    {
      "cell_type": "markdown",
      "source": [
        "# Imports and Constants"
      ],
      "metadata": {
        "id": "qFuQD4Wn9FYj"
      }
    },
    {
      "cell_type": "code",
      "metadata": {
        "id": "fZUjoTsRzRj_",
        "colab": {
          "base_uri": "https://localhost:8080/"
        },
        "outputId": "93a869a5-877d-4f6c-a21b-0ee2fec8e5c6"
      },
      "source": [
        "!git clone https://github.com/ShesterG/Stance-Detection-Ghana-2020-Elections.git\n",
        "\n",
        "%cd Stance-Detection-Ghana-2020-Elections/"
      ],
      "execution_count": 1,
      "outputs": [
        {
          "output_type": "stream",
          "name": "stdout",
          "text": [
            "fatal: destination path 'Stance-Detection-Ghana-2020-Elections' already exists and is not an empty directory.\n",
            "/content/Stance-Detection-Ghana-2020-Elections\n"
          ]
        }
      ]
    },
    {
      "cell_type": "code",
      "source": [
        "!pip3 install config"
      ],
      "metadata": {
        "id": "RxMOdr_u8Hw7",
        "outputId": "da07281a-765c-4d41-dc7b-b97e1544e518",
        "colab": {
          "base_uri": "https://localhost:8080/"
        }
      },
      "execution_count": 2,
      "outputs": [
        {
          "output_type": "stream",
          "name": "stdout",
          "text": [
            "Requirement already satisfied: config in /usr/local/lib/python3.7/dist-packages (0.5.1)\n"
          ]
        }
      ]
    },
    {
      "cell_type": "code",
      "metadata": {
        "id": "FxF8pmvZ0TvR",
        "colab": {
          "base_uri": "https://localhost:8080/"
        },
        "outputId": "b31ffd95-3488-4163-d24f-114dc3800307"
      },
      "source": [
        "!pip install vaderSentiment"
      ],
      "execution_count": 3,
      "outputs": [
        {
          "output_type": "stream",
          "name": "stdout",
          "text": [
            "Requirement already satisfied: vaderSentiment in /usr/local/lib/python3.7/dist-packages (3.3.2)\n",
            "Requirement already satisfied: requests in /usr/local/lib/python3.7/dist-packages (from vaderSentiment) (2.23.0)\n",
            "Requirement already satisfied: idna<3,>=2.5 in /usr/local/lib/python3.7/dist-packages (from requests->vaderSentiment) (2.10)\n",
            "Requirement already satisfied: certifi>=2017.4.17 in /usr/local/lib/python3.7/dist-packages (from requests->vaderSentiment) (2021.10.8)\n",
            "Requirement already satisfied: urllib3!=1.25.0,!=1.25.1,<1.26,>=1.21.1 in /usr/local/lib/python3.7/dist-packages (from requests->vaderSentiment) (1.24.3)\n",
            "Requirement already satisfied: chardet<4,>=3.0.2 in /usr/local/lib/python3.7/dist-packages (from requests->vaderSentiment) (3.0.4)\n"
          ]
        }
      ]
    },
    {
      "cell_type": "code",
      "metadata": {
        "id": "ZIEFEXiozJTo"
      },
      "source": [
        "import pandas as pd\n",
        "import glob\n",
        "import sys\n",
        "sys.path.append('../../')\n",
        "import config\n",
        "import warnings\n",
        "import numpy as np\n",
        "import matplotlib.pyplot as plt\n",
        "import seaborn as sns\n",
        "warnings.filterwarnings('ignore')\n",
        "from textblob import TextBlob\n",
        "from vaderSentiment.vaderSentiment import SentimentIntensityAnalyzer\n",
        "from sklearn.metrics import confusion_matrix, accuracy_score,classification_report,f1_score"
      ],
      "execution_count": 4,
      "outputs": []
    },
    {
      "cell_type": "code",
      "metadata": {
        "id": "mEILAGGx0-dW"
      },
      "source": [
        "DATA_FILE_PATH = '/content/Stance-Detection-Ghana-2020-Elections/Dataset/'\n",
        "CLEAN_DATA_FILE_NAME = '01EDA_All_Model_Tweets_Ghana_2020_Elections_L.csv'\n",
        "TOKENIZED_DATA_FILE_NAME = '02TPP_All_Model_Tweets_Ghana_2020_Elections_L.csv'\n",
        "pd.set_option('display.max_colwidth', None)\n",
        "RANDOM_STATE = 42"
      ],
      "execution_count": 5,
      "outputs": []
    },
    {
      "cell_type": "markdown",
      "source": [
        "# Load Data"
      ],
      "metadata": {
        "id": "btOVmPvO9K_9"
      }
    },
    {
      "cell_type": "code",
      "metadata": {
        "id": "Sr61DDSS1Eic"
      },
      "source": [
        "df = pd.read_csv(DATA_FILE_PATH + TOKENIZED_DATA_FILE_NAME)"
      ],
      "execution_count": 6,
      "outputs": []
    },
    {
      "cell_type": "code",
      "metadata": {
        "id": "pguWdb9I1LvQ"
      },
      "source": [
        "pd.set_option('display.max_colwidth', None)"
      ],
      "execution_count": 7,
      "outputs": []
    },
    {
      "cell_type": "code",
      "metadata": {
        "id": "BK0oRQmozJTx",
        "colab": {
          "base_uri": "https://localhost:8080/",
          "height": 372
        },
        "outputId": "1f511c72-2ff2-4aa1-f8d6-0df31b3fc543"
      },
      "source": [
        "df.head()"
      ],
      "execution_count": 8,
      "outputs": [
        {
          "output_type": "execute_result",
          "data": {
            "text/plain": [
              "   ID  \\\n",
              "0   2   \n",
              "1   6   \n",
              "2   7   \n",
              "3  17   \n",
              "4  18   \n",
              "\n",
              "                                                                                                                                                Tweet  \\\n",
              "0  @NAkufoAddo  H. E Nana please follow up on this FAKE NEWS, LIES and sue BBC for peddling false information. Hold alÃ¢â¬Â¦ https://t.co/SdwnMsxeUV   \n",
              "1                       @ChipsJhay @TruthFreema @AOuattara_PRCI @NAkufoAddo No, you haven't. He's using his freedom of speech as it is. He's covered.   \n",
              "2                                                                    @IssahGerard @HEgyiri @NAkufoAddo Please who is this and how is he your in law??   \n",
              "3                                                           @Kwame34580189 @bukolasaraki @NAkufoAddo Whatever.... Thought you had something there....   \n",
              "4                                                                     @NAkufoAddo Remember that the good people of Gh have spoken therefore Soo be it   \n",
              "\n",
              "  Candidate  Stance  \\\n",
              "0      Nana     0.0   \n",
              "1      Nana     0.0   \n",
              "2      Nana     0.0   \n",
              "3      Nana     0.0   \n",
              "4      Nana     0.0   \n",
              "\n",
              "                                                                                                Preproc_Tweet  \\\n",
              "0  nana  h e nana please follow up on this fake news lies and sue bbc for peddling false information hold al    \n",
              "1                                  nana no you haven't he's using his freedom of speech as it is he's covered   \n",
              "2                                                           nana please who is this and how is he your in law   \n",
              "3                                                               nana whatever thought you had something there   \n",
              "4                                    nana remember that the good people of gh have spoken therefore soo be it   \n",
              "\n",
              "                                                                                                                                                         Tokens  \n",
              "0  ['nana', 'h', 'e', 'nana', 'pleas', 'follow', 'up', 'on', 'thi', 'fake', 'news', 'lie', 'and', 'sue', 'bbc', 'for', 'peddl', 'fals', 'inform', 'hold', 'al']  \n",
              "1                                             ['nana', 'no', 'you', \"haven't\", \"he'\", 'use', 'hi', 'freedom', 'of', 'speech', 'as', 'it', 'is', \"he'\", 'cover']  \n",
              "2                                                                          ['nana', 'pleas', 'who', 'is', 'thi', 'and', 'how', 'is', 'he', 'your', 'in', 'law']  \n",
              "3                                                                                                ['nana', 'whatev', 'thought', 'you', 'had', 'someth', 'there']  \n",
              "4                                               ['nana', 'rememb', 'that', 'the', 'good', 'peopl', 'of', 'gh', 'have', 'spoken', 'therefor', 'soo', 'be', 'it']  "
            ],
            "text/html": [
              "\n",
              "  <div id=\"df-88571ddd-90e1-4076-9213-af85cb36991e\">\n",
              "    <div class=\"colab-df-container\">\n",
              "      <div>\n",
              "<style scoped>\n",
              "    .dataframe tbody tr th:only-of-type {\n",
              "        vertical-align: middle;\n",
              "    }\n",
              "\n",
              "    .dataframe tbody tr th {\n",
              "        vertical-align: top;\n",
              "    }\n",
              "\n",
              "    .dataframe thead th {\n",
              "        text-align: right;\n",
              "    }\n",
              "</style>\n",
              "<table border=\"1\" class=\"dataframe\">\n",
              "  <thead>\n",
              "    <tr style=\"text-align: right;\">\n",
              "      <th></th>\n",
              "      <th>ID</th>\n",
              "      <th>Tweet</th>\n",
              "      <th>Candidate</th>\n",
              "      <th>Stance</th>\n",
              "      <th>Preproc_Tweet</th>\n",
              "      <th>Tokens</th>\n",
              "    </tr>\n",
              "  </thead>\n",
              "  <tbody>\n",
              "    <tr>\n",
              "      <th>0</th>\n",
              "      <td>2</td>\n",
              "      <td>@NAkufoAddo  H. E Nana please follow up on this FAKE NEWS, LIES and sue BBC for peddling false information. Hold alÃ¢â¬Â¦ https://t.co/SdwnMsxeUV</td>\n",
              "      <td>Nana</td>\n",
              "      <td>0.0</td>\n",
              "      <td>nana  h e nana please follow up on this fake news lies and sue bbc for peddling false information hold al</td>\n",
              "      <td>['nana', 'h', 'e', 'nana', 'pleas', 'follow', 'up', 'on', 'thi', 'fake', 'news', 'lie', 'and', 'sue', 'bbc', 'for', 'peddl', 'fals', 'inform', 'hold', 'al']</td>\n",
              "    </tr>\n",
              "    <tr>\n",
              "      <th>1</th>\n",
              "      <td>6</td>\n",
              "      <td>@ChipsJhay @TruthFreema @AOuattara_PRCI @NAkufoAddo No, you haven't. He's using his freedom of speech as it is. He's covered.</td>\n",
              "      <td>Nana</td>\n",
              "      <td>0.0</td>\n",
              "      <td>nana no you haven't he's using his freedom of speech as it is he's covered</td>\n",
              "      <td>['nana', 'no', 'you', \"haven't\", \"he'\", 'use', 'hi', 'freedom', 'of', 'speech', 'as', 'it', 'is', \"he'\", 'cover']</td>\n",
              "    </tr>\n",
              "    <tr>\n",
              "      <th>2</th>\n",
              "      <td>7</td>\n",
              "      <td>@IssahGerard @HEgyiri @NAkufoAddo Please who is this and how is he your in law??</td>\n",
              "      <td>Nana</td>\n",
              "      <td>0.0</td>\n",
              "      <td>nana please who is this and how is he your in law</td>\n",
              "      <td>['nana', 'pleas', 'who', 'is', 'thi', 'and', 'how', 'is', 'he', 'your', 'in', 'law']</td>\n",
              "    </tr>\n",
              "    <tr>\n",
              "      <th>3</th>\n",
              "      <td>17</td>\n",
              "      <td>@Kwame34580189 @bukolasaraki @NAkufoAddo Whatever.... Thought you had something there....</td>\n",
              "      <td>Nana</td>\n",
              "      <td>0.0</td>\n",
              "      <td>nana whatever thought you had something there</td>\n",
              "      <td>['nana', 'whatev', 'thought', 'you', 'had', 'someth', 'there']</td>\n",
              "    </tr>\n",
              "    <tr>\n",
              "      <th>4</th>\n",
              "      <td>18</td>\n",
              "      <td>@NAkufoAddo Remember that the good people of Gh have spoken therefore Soo be it</td>\n",
              "      <td>Nana</td>\n",
              "      <td>0.0</td>\n",
              "      <td>nana remember that the good people of gh have spoken therefore soo be it</td>\n",
              "      <td>['nana', 'rememb', 'that', 'the', 'good', 'peopl', 'of', 'gh', 'have', 'spoken', 'therefor', 'soo', 'be', 'it']</td>\n",
              "    </tr>\n",
              "  </tbody>\n",
              "</table>\n",
              "</div>\n",
              "      <button class=\"colab-df-convert\" onclick=\"convertToInteractive('df-88571ddd-90e1-4076-9213-af85cb36991e')\"\n",
              "              title=\"Convert this dataframe to an interactive table.\"\n",
              "              style=\"display:none;\">\n",
              "        \n",
              "  <svg xmlns=\"http://www.w3.org/2000/svg\" height=\"24px\"viewBox=\"0 0 24 24\"\n",
              "       width=\"24px\">\n",
              "    <path d=\"M0 0h24v24H0V0z\" fill=\"none\"/>\n",
              "    <path d=\"M18.56 5.44l.94 2.06.94-2.06 2.06-.94-2.06-.94-.94-2.06-.94 2.06-2.06.94zm-11 1L8.5 8.5l.94-2.06 2.06-.94-2.06-.94L8.5 2.5l-.94 2.06-2.06.94zm10 10l.94 2.06.94-2.06 2.06-.94-2.06-.94-.94-2.06-.94 2.06-2.06.94z\"/><path d=\"M17.41 7.96l-1.37-1.37c-.4-.4-.92-.59-1.43-.59-.52 0-1.04.2-1.43.59L10.3 9.45l-7.72 7.72c-.78.78-.78 2.05 0 2.83L4 21.41c.39.39.9.59 1.41.59.51 0 1.02-.2 1.41-.59l7.78-7.78 2.81-2.81c.8-.78.8-2.07 0-2.86zM5.41 20L4 18.59l7.72-7.72 1.47 1.35L5.41 20z\"/>\n",
              "  </svg>\n",
              "      </button>\n",
              "      \n",
              "  <style>\n",
              "    .colab-df-container {\n",
              "      display:flex;\n",
              "      flex-wrap:wrap;\n",
              "      gap: 12px;\n",
              "    }\n",
              "\n",
              "    .colab-df-convert {\n",
              "      background-color: #E8F0FE;\n",
              "      border: none;\n",
              "      border-radius: 50%;\n",
              "      cursor: pointer;\n",
              "      display: none;\n",
              "      fill: #1967D2;\n",
              "      height: 32px;\n",
              "      padding: 0 0 0 0;\n",
              "      width: 32px;\n",
              "    }\n",
              "\n",
              "    .colab-df-convert:hover {\n",
              "      background-color: #E2EBFA;\n",
              "      box-shadow: 0px 1px 2px rgba(60, 64, 67, 0.3), 0px 1px 3px 1px rgba(60, 64, 67, 0.15);\n",
              "      fill: #174EA6;\n",
              "    }\n",
              "\n",
              "    [theme=dark] .colab-df-convert {\n",
              "      background-color: #3B4455;\n",
              "      fill: #D2E3FC;\n",
              "    }\n",
              "\n",
              "    [theme=dark] .colab-df-convert:hover {\n",
              "      background-color: #434B5C;\n",
              "      box-shadow: 0px 1px 3px 1px rgba(0, 0, 0, 0.15);\n",
              "      filter: drop-shadow(0px 1px 2px rgba(0, 0, 0, 0.3));\n",
              "      fill: #FFFFFF;\n",
              "    }\n",
              "  </style>\n",
              "\n",
              "      <script>\n",
              "        const buttonEl =\n",
              "          document.querySelector('#df-88571ddd-90e1-4076-9213-af85cb36991e button.colab-df-convert');\n",
              "        buttonEl.style.display =\n",
              "          google.colab.kernel.accessAllowed ? 'block' : 'none';\n",
              "\n",
              "        async function convertToInteractive(key) {\n",
              "          const element = document.querySelector('#df-88571ddd-90e1-4076-9213-af85cb36991e');\n",
              "          const dataTable =\n",
              "            await google.colab.kernel.invokeFunction('convertToInteractive',\n",
              "                                                     [key], {});\n",
              "          if (!dataTable) return;\n",
              "\n",
              "          const docLinkHtml = 'Like what you see? Visit the ' +\n",
              "            '<a target=\"_blank\" href=https://colab.research.google.com/notebooks/data_table.ipynb>data table notebook</a>'\n",
              "            + ' to learn more about interactive tables.';\n",
              "          element.innerHTML = '';\n",
              "          dataTable['output_type'] = 'display_data';\n",
              "          await google.colab.output.renderOutput(dataTable, element);\n",
              "          const docLink = document.createElement('div');\n",
              "          docLink.innerHTML = docLinkHtml;\n",
              "          element.appendChild(docLink);\n",
              "        }\n",
              "      </script>\n",
              "    </div>\n",
              "  </div>\n",
              "  "
            ]
          },
          "metadata": {},
          "execution_count": 8
        }
      ]
    },
    {
      "cell_type": "code",
      "source": [
        "df = df[df.Stance != 0]"
      ],
      "metadata": {
        "id": "GdyWGkMT-vKj"
      },
      "execution_count": 9,
      "outputs": []
    },
    {
      "cell_type": "code",
      "metadata": {
        "id": "kPNIvfgUzJT2"
      },
      "source": [
        "minimum_value = df['Stance'].value_counts().min()"
      ],
      "execution_count": 10,
      "outputs": []
    },
    {
      "cell_type": "code",
      "metadata": {
        "id": "2lYlEErRzJT3"
      },
      "source": [
        "def sample_minimum(df):\n",
        "    return df.sample(minimum_value)"
      ],
      "execution_count": 11,
      "outputs": []
    },
    {
      "cell_type": "code",
      "metadata": {
        "id": "rNxP5xHozJT4"
      },
      "source": [
        "g = df.groupby('Stance')"
      ],
      "execution_count": 12,
      "outputs": []
    },
    {
      "cell_type": "code",
      "metadata": {
        "id": "BSjdhC1pzJT4",
        "colab": {
          "base_uri": "https://localhost:8080/",
          "height": 406
        },
        "outputId": "17719e26-ee18-4875-f662-17dcf730116c"
      },
      "source": [
        "new_df = g.apply(sample_minimum).reset_index(drop=True)\n",
        "new_df.head()"
      ],
      "execution_count": 13,
      "outputs": [
        {
          "output_type": "execute_result",
          "data": {
            "text/plain": [
              "      ID  \\\n",
              "0  18363   \n",
              "1  80060   \n",
              "2  12015   \n",
              "3   2035   \n",
              "4  73323   \n",
              "\n",
              "                                                                                                                                                         Tweet  \\\n",
              "0  @NAkufoAddo the mother serpent of corruption whoÃ¢â¬â¢s behaving as innnocent under anti- Corruption flower.\\n\\n~Martin A.Ã¢â¬Â¦ https://t.co/ZaTW75WkWc   \n",
              "1           @JDMahama Ghanaians don't want your \"free anything\" biaa cuz your so-called \"Free SHS\" is NOT up to Nana Addo's FreÃ¢â¬Â¦ https://t.co/TGhl3S8c84   \n",
              "2                                                                        @TogbeDzatse @NAkufoAddo To still be number 1 in stealing Ghanaian hard earned money.   \n",
              "3                                                             @GHOneTV @NAkufoAddo @JDMahama Bias media you will continue to surfer under akuffo addo asotorwo   \n",
              "4           @Renowned_beast @Supremo06903924 @JDMahama Wait, in 2012 did u see npp behaving like this with useless press conferÃ¢â¬Â¦ https://t.co/AXuGHEszS0   \n",
              "\n",
              "  Candidate  Stance  \\\n",
              "0      Nana    -1.0   \n",
              "1      John    -1.0   \n",
              "2      Nana    -1.0   \n",
              "3      Nana    -1.0   \n",
              "4      John    -1.0   \n",
              "\n",
              "                                                                                                   Preproc_Tweet  \\\n",
              "0    nana the mother serpent of corruption whos behaving as innnocent under anti- corruption flower\\n\\nmartin a    \n",
              "1  mahama ghanaians don't want your free anything biaa cuz your so-called free shs is not up to nana addo's fre    \n",
              "2                                                nana to still be number  in stealing ghanaian hard earned money   \n",
              "3                                  nana mahama bias media you will continue to surfer under akuffo addo asotorwo   \n",
              "4                                    mahama wait in  did u see npp behaving like this with useless press confer    \n",
              "\n",
              "                                                                                                                                                             Tokens  \n",
              "0                        ['nana', 'the', 'mother', 'serpent', 'of', 'corrupt', 'who', 'behav', 'as', 'innnoc', 'under', 'anti', 'corrupt', 'flower', 'martin', 'a']  \n",
              "1  ['mahama', 'ghanaian', \"don't\", 'want', 'your', 'free', 'anyth', 'biaa', 'cuz', 'your', 'so-cal', 'free', 'sh', 'is', 'not', 'up', 'to', 'nana', \"addo'\", 'fre']  \n",
              "2                                                                       ['nana', 'to', 'still', 'be', 'number', 'in', 'steal', 'ghanaian', 'hard', 'earn', 'money']  \n",
              "3                                               ['nana', 'mahama', 'bia', 'media', 'you', 'will', 'continu', 'to', 'surfer', 'under', 'akuffo', 'addo', 'asotorwo']  \n",
              "4                                                  ['mahama', 'wait', 'in', 'did', 'u', 'see', 'npp', 'behav', 'like', 'thi', 'with', 'useless', 'press', 'confer']  "
            ],
            "text/html": [
              "\n",
              "  <div id=\"df-17aac1a6-d407-4965-b800-aff827eb561f\">\n",
              "    <div class=\"colab-df-container\">\n",
              "      <div>\n",
              "<style scoped>\n",
              "    .dataframe tbody tr th:only-of-type {\n",
              "        vertical-align: middle;\n",
              "    }\n",
              "\n",
              "    .dataframe tbody tr th {\n",
              "        vertical-align: top;\n",
              "    }\n",
              "\n",
              "    .dataframe thead th {\n",
              "        text-align: right;\n",
              "    }\n",
              "</style>\n",
              "<table border=\"1\" class=\"dataframe\">\n",
              "  <thead>\n",
              "    <tr style=\"text-align: right;\">\n",
              "      <th></th>\n",
              "      <th>ID</th>\n",
              "      <th>Tweet</th>\n",
              "      <th>Candidate</th>\n",
              "      <th>Stance</th>\n",
              "      <th>Preproc_Tweet</th>\n",
              "      <th>Tokens</th>\n",
              "    </tr>\n",
              "  </thead>\n",
              "  <tbody>\n",
              "    <tr>\n",
              "      <th>0</th>\n",
              "      <td>18363</td>\n",
              "      <td>@NAkufoAddo the mother serpent of corruption whoÃ¢â¬â¢s behaving as innnocent under anti- Corruption flower.\\n\\n~Martin A.Ã¢â¬Â¦ https://t.co/ZaTW75WkWc</td>\n",
              "      <td>Nana</td>\n",
              "      <td>-1.0</td>\n",
              "      <td>nana the mother serpent of corruption whos behaving as innnocent under anti- corruption flower\\n\\nmartin a</td>\n",
              "      <td>['nana', 'the', 'mother', 'serpent', 'of', 'corrupt', 'who', 'behav', 'as', 'innnoc', 'under', 'anti', 'corrupt', 'flower', 'martin', 'a']</td>\n",
              "    </tr>\n",
              "    <tr>\n",
              "      <th>1</th>\n",
              "      <td>80060</td>\n",
              "      <td>@JDMahama Ghanaians don't want your \"free anything\" biaa cuz your so-called \"Free SHS\" is NOT up to Nana Addo's FreÃ¢â¬Â¦ https://t.co/TGhl3S8c84</td>\n",
              "      <td>John</td>\n",
              "      <td>-1.0</td>\n",
              "      <td>mahama ghanaians don't want your free anything biaa cuz your so-called free shs is not up to nana addo's fre</td>\n",
              "      <td>['mahama', 'ghanaian', \"don't\", 'want', 'your', 'free', 'anyth', 'biaa', 'cuz', 'your', 'so-cal', 'free', 'sh', 'is', 'not', 'up', 'to', 'nana', \"addo'\", 'fre']</td>\n",
              "    </tr>\n",
              "    <tr>\n",
              "      <th>2</th>\n",
              "      <td>12015</td>\n",
              "      <td>@TogbeDzatse @NAkufoAddo To still be number 1 in stealing Ghanaian hard earned money.</td>\n",
              "      <td>Nana</td>\n",
              "      <td>-1.0</td>\n",
              "      <td>nana to still be number  in stealing ghanaian hard earned money</td>\n",
              "      <td>['nana', 'to', 'still', 'be', 'number', 'in', 'steal', 'ghanaian', 'hard', 'earn', 'money']</td>\n",
              "    </tr>\n",
              "    <tr>\n",
              "      <th>3</th>\n",
              "      <td>2035</td>\n",
              "      <td>@GHOneTV @NAkufoAddo @JDMahama Bias media you will continue to surfer under akuffo addo asotorwo</td>\n",
              "      <td>Nana</td>\n",
              "      <td>-1.0</td>\n",
              "      <td>nana mahama bias media you will continue to surfer under akuffo addo asotorwo</td>\n",
              "      <td>['nana', 'mahama', 'bia', 'media', 'you', 'will', 'continu', 'to', 'surfer', 'under', 'akuffo', 'addo', 'asotorwo']</td>\n",
              "    </tr>\n",
              "    <tr>\n",
              "      <th>4</th>\n",
              "      <td>73323</td>\n",
              "      <td>@Renowned_beast @Supremo06903924 @JDMahama Wait, in 2012 did u see npp behaving like this with useless press conferÃ¢â¬Â¦ https://t.co/AXuGHEszS0</td>\n",
              "      <td>John</td>\n",
              "      <td>-1.0</td>\n",
              "      <td>mahama wait in  did u see npp behaving like this with useless press confer</td>\n",
              "      <td>['mahama', 'wait', 'in', 'did', 'u', 'see', 'npp', 'behav', 'like', 'thi', 'with', 'useless', 'press', 'confer']</td>\n",
              "    </tr>\n",
              "  </tbody>\n",
              "</table>\n",
              "</div>\n",
              "      <button class=\"colab-df-convert\" onclick=\"convertToInteractive('df-17aac1a6-d407-4965-b800-aff827eb561f')\"\n",
              "              title=\"Convert this dataframe to an interactive table.\"\n",
              "              style=\"display:none;\">\n",
              "        \n",
              "  <svg xmlns=\"http://www.w3.org/2000/svg\" height=\"24px\"viewBox=\"0 0 24 24\"\n",
              "       width=\"24px\">\n",
              "    <path d=\"M0 0h24v24H0V0z\" fill=\"none\"/>\n",
              "    <path d=\"M18.56 5.44l.94 2.06.94-2.06 2.06-.94-2.06-.94-.94-2.06-.94 2.06-2.06.94zm-11 1L8.5 8.5l.94-2.06 2.06-.94-2.06-.94L8.5 2.5l-.94 2.06-2.06.94zm10 10l.94 2.06.94-2.06 2.06-.94-2.06-.94-.94-2.06-.94 2.06-2.06.94z\"/><path d=\"M17.41 7.96l-1.37-1.37c-.4-.4-.92-.59-1.43-.59-.52 0-1.04.2-1.43.59L10.3 9.45l-7.72 7.72c-.78.78-.78 2.05 0 2.83L4 21.41c.39.39.9.59 1.41.59.51 0 1.02-.2 1.41-.59l7.78-7.78 2.81-2.81c.8-.78.8-2.07 0-2.86zM5.41 20L4 18.59l7.72-7.72 1.47 1.35L5.41 20z\"/>\n",
              "  </svg>\n",
              "      </button>\n",
              "      \n",
              "  <style>\n",
              "    .colab-df-container {\n",
              "      display:flex;\n",
              "      flex-wrap:wrap;\n",
              "      gap: 12px;\n",
              "    }\n",
              "\n",
              "    .colab-df-convert {\n",
              "      background-color: #E8F0FE;\n",
              "      border: none;\n",
              "      border-radius: 50%;\n",
              "      cursor: pointer;\n",
              "      display: none;\n",
              "      fill: #1967D2;\n",
              "      height: 32px;\n",
              "      padding: 0 0 0 0;\n",
              "      width: 32px;\n",
              "    }\n",
              "\n",
              "    .colab-df-convert:hover {\n",
              "      background-color: #E2EBFA;\n",
              "      box-shadow: 0px 1px 2px rgba(60, 64, 67, 0.3), 0px 1px 3px 1px rgba(60, 64, 67, 0.15);\n",
              "      fill: #174EA6;\n",
              "    }\n",
              "\n",
              "    [theme=dark] .colab-df-convert {\n",
              "      background-color: #3B4455;\n",
              "      fill: #D2E3FC;\n",
              "    }\n",
              "\n",
              "    [theme=dark] .colab-df-convert:hover {\n",
              "      background-color: #434B5C;\n",
              "      box-shadow: 0px 1px 3px 1px rgba(0, 0, 0, 0.15);\n",
              "      filter: drop-shadow(0px 1px 2px rgba(0, 0, 0, 0.3));\n",
              "      fill: #FFFFFF;\n",
              "    }\n",
              "  </style>\n",
              "\n",
              "      <script>\n",
              "        const buttonEl =\n",
              "          document.querySelector('#df-17aac1a6-d407-4965-b800-aff827eb561f button.colab-df-convert');\n",
              "        buttonEl.style.display =\n",
              "          google.colab.kernel.accessAllowed ? 'block' : 'none';\n",
              "\n",
              "        async function convertToInteractive(key) {\n",
              "          const element = document.querySelector('#df-17aac1a6-d407-4965-b800-aff827eb561f');\n",
              "          const dataTable =\n",
              "            await google.colab.kernel.invokeFunction('convertToInteractive',\n",
              "                                                     [key], {});\n",
              "          if (!dataTable) return;\n",
              "\n",
              "          const docLinkHtml = 'Like what you see? Visit the ' +\n",
              "            '<a target=\"_blank\" href=https://colab.research.google.com/notebooks/data_table.ipynb>data table notebook</a>'\n",
              "            + ' to learn more about interactive tables.';\n",
              "          element.innerHTML = '';\n",
              "          dataTable['output_type'] = 'display_data';\n",
              "          await google.colab.output.renderOutput(dataTable, element);\n",
              "          const docLink = document.createElement('div');\n",
              "          docLink.innerHTML = docLinkHtml;\n",
              "          element.appendChild(docLink);\n",
              "        }\n",
              "      </script>\n",
              "    </div>\n",
              "  </div>\n",
              "  "
            ]
          },
          "metadata": {},
          "execution_count": 13
        }
      ]
    },
    {
      "cell_type": "code",
      "metadata": {
        "id": "ZoWb5XY2zJT5",
        "colab": {
          "base_uri": "https://localhost:8080/"
        },
        "outputId": "3ca715df-72d6-4d58-ee5b-76533940b9af"
      },
      "source": [
        "new_df['Stance'].value_counts()"
      ],
      "execution_count": 14,
      "outputs": [
        {
          "output_type": "execute_result",
          "data": {
            "text/plain": [
              "-1.0    1030\n",
              " 1.0    1030\n",
              "Name: Stance, dtype: int64"
            ]
          },
          "metadata": {},
          "execution_count": 14
        }
      ]
    },
    {
      "cell_type": "markdown",
      "metadata": {
        "id": "LP1VlMv7zJT6"
      },
      "source": [
        "### For VADERSentiment"
      ]
    },
    {
      "cell_type": "code",
      "metadata": {
        "id": "V24g6E4hzJT7"
      },
      "source": [
        "analyser = SentimentIntensityAnalyzer()\n"
      ],
      "execution_count": 15,
      "outputs": []
    },
    {
      "cell_type": "code",
      "metadata": {
        "id": "LwL29SjnzJT7"
      },
      "source": [
        "def vader_sentiment(text):\n",
        "    score = analyser.polarity_scores(text)\n",
        "    if score['compound'] > 0:\n",
        "        result = 1\n",
        "    else:\n",
        "        result = -1\n",
        "    return result"
      ],
      "execution_count": 16,
      "outputs": []
    },
    {
      "cell_type": "markdown",
      "metadata": {
        "id": "KpU1ch3rzJT8"
      },
      "source": [
        "### For TextBlob"
      ]
    },
    {
      "cell_type": "code",
      "metadata": {
        "id": "r1zjKvRTzJT8"
      },
      "source": [
        "def text_blob(text):\n",
        "    score = TextBlob(text).sentiment.polarity\n",
        "    if score > 0:\n",
        "        result = 1\n",
        "    else:\n",
        "        result = -1\n",
        "    return result"
      ],
      "execution_count": 17,
      "outputs": []
    },
    {
      "cell_type": "markdown",
      "metadata": {
        "id": "ZH-KMsF0zJT9"
      },
      "source": [
        "### Analysis and Evaluation\n"
      ]
    },
    {
      "cell_type": "code",
      "metadata": {
        "id": "dY4BI4enzJUA"
      },
      "source": [
        "new_df['vader_sent'] = new_df['Tokens'].apply(vader_sentiment)\n",
        "new_df['textblob_sent'] = new_df['Tokens'].apply(text_blob)\n"
      ],
      "execution_count": 18,
      "outputs": []
    },
    {
      "cell_type": "code",
      "metadata": {
        "id": "L4BKlSGMzJUD"
      },
      "source": [
        "col = ['vader_sent','textblob_sent']\n",
        "def pd_score(df,col,target):\n",
        "    score = []\n",
        "    for items in col:\n",
        "        rate = accuracy_score(target, df[items])\n",
        "        score.append(rate)\n",
        "    scores = pd.Series(score, index=['VADER', 'TextBlob'])\n",
        "    return scores\n",
        "    "
      ],
      "execution_count": 19,
      "outputs": []
    },
    {
      "cell_type": "code",
      "metadata": {
        "id": "efknKG0_zJUF"
      },
      "source": [
        "scores = pd_score(new_df,col,new_df['Stance'])"
      ],
      "execution_count": 20,
      "outputs": []
    },
    {
      "cell_type": "code",
      "metadata": {
        "id": "N_jfMTZuzJUG"
      },
      "source": [
        "rate = accuracy_score(new_df['Stance'], new_df['vader_sent'])"
      ],
      "execution_count": 21,
      "outputs": []
    },
    {
      "cell_type": "code",
      "metadata": {
        "id": "VCLlKr2YzJUH",
        "colab": {
          "base_uri": "https://localhost:8080/"
        },
        "outputId": "d12d4855-d28b-45f8-d677-0009fc8f97d3"
      },
      "source": [
        "rate"
      ],
      "execution_count": 22,
      "outputs": [
        {
          "output_type": "execute_result",
          "data": {
            "text/plain": [
              "0.7694174757281553"
            ]
          },
          "metadata": {},
          "execution_count": 22
        }
      ]
    },
    {
      "cell_type": "code",
      "metadata": {
        "id": "0xy6WGWWzJUI"
      },
      "source": [
        "rate = accuracy_score(new_df['Stance'], new_df['textblob_sent'])"
      ],
      "execution_count": 23,
      "outputs": []
    },
    {
      "cell_type": "code",
      "metadata": {
        "id": "1asYlZMyzJUI",
        "colab": {
          "base_uri": "https://localhost:8080/"
        },
        "outputId": "3b378e9f-00db-4a57-959e-2956002f535a"
      },
      "source": [
        "rate"
      ],
      "execution_count": 24,
      "outputs": [
        {
          "output_type": "execute_result",
          "data": {
            "text/plain": [
              "0.712135922330097"
            ]
          },
          "metadata": {},
          "execution_count": 24
        }
      ]
    },
    {
      "cell_type": "code",
      "metadata": {
        "id": "FmNfhkFuzJUK",
        "outputId": "2823e28f-fd72-4622-e14c-a117e80edfd7",
        "colab": {
          "base_uri": "https://localhost:8080/",
          "height": 476
        }
      },
      "source": [
        "new_df.head()"
      ],
      "execution_count": 25,
      "outputs": [
        {
          "output_type": "execute_result",
          "data": {
            "text/plain": [
              "      ID  \\\n",
              "0  18363   \n",
              "1  80060   \n",
              "2  12015   \n",
              "3   2035   \n",
              "4  73323   \n",
              "\n",
              "                                                                                                                                                         Tweet  \\\n",
              "0  @NAkufoAddo the mother serpent of corruption whoÃ¢â¬â¢s behaving as innnocent under anti- Corruption flower.\\n\\n~Martin A.Ã¢â¬Â¦ https://t.co/ZaTW75WkWc   \n",
              "1           @JDMahama Ghanaians don't want your \"free anything\" biaa cuz your so-called \"Free SHS\" is NOT up to Nana Addo's FreÃ¢â¬Â¦ https://t.co/TGhl3S8c84   \n",
              "2                                                                        @TogbeDzatse @NAkufoAddo To still be number 1 in stealing Ghanaian hard earned money.   \n",
              "3                                                             @GHOneTV @NAkufoAddo @JDMahama Bias media you will continue to surfer under akuffo addo asotorwo   \n",
              "4           @Renowned_beast @Supremo06903924 @JDMahama Wait, in 2012 did u see npp behaving like this with useless press conferÃ¢â¬Â¦ https://t.co/AXuGHEszS0   \n",
              "\n",
              "  Candidate  Stance  \\\n",
              "0      Nana    -1.0   \n",
              "1      John    -1.0   \n",
              "2      Nana    -1.0   \n",
              "3      Nana    -1.0   \n",
              "4      John    -1.0   \n",
              "\n",
              "                                                                                                   Preproc_Tweet  \\\n",
              "0    nana the mother serpent of corruption whos behaving as innnocent under anti- corruption flower\\n\\nmartin a    \n",
              "1  mahama ghanaians don't want your free anything biaa cuz your so-called free shs is not up to nana addo's fre    \n",
              "2                                                nana to still be number  in stealing ghanaian hard earned money   \n",
              "3                                  nana mahama bias media you will continue to surfer under akuffo addo asotorwo   \n",
              "4                                    mahama wait in  did u see npp behaving like this with useless press confer    \n",
              "\n",
              "                                                                                                                                                             Tokens  \\\n",
              "0                        ['nana', 'the', 'mother', 'serpent', 'of', 'corrupt', 'who', 'behav', 'as', 'innnoc', 'under', 'anti', 'corrupt', 'flower', 'martin', 'a']   \n",
              "1  ['mahama', 'ghanaian', \"don't\", 'want', 'your', 'free', 'anyth', 'biaa', 'cuz', 'your', 'so-cal', 'free', 'sh', 'is', 'not', 'up', 'to', 'nana', \"addo'\", 'fre']   \n",
              "2                                                                       ['nana', 'to', 'still', 'be', 'number', 'in', 'steal', 'ghanaian', 'hard', 'earn', 'money']   \n",
              "3                                               ['nana', 'mahama', 'bia', 'media', 'you', 'will', 'continu', 'to', 'surfer', 'under', 'akuffo', 'addo', 'asotorwo']   \n",
              "4                                                  ['mahama', 'wait', 'in', 'did', 'u', 'see', 'npp', 'behav', 'like', 'thi', 'with', 'useless', 'press', 'confer']   \n",
              "\n",
              "   vader_sent  textblob_sent  \n",
              "0          -1             -1  \n",
              "1           1              1  \n",
              "2          -1             -1  \n",
              "3          -1             -1  \n",
              "4          -1             -1  "
            ],
            "text/html": [
              "\n",
              "  <div id=\"df-6265ba94-d928-4e2d-a400-e750400a1ac2\">\n",
              "    <div class=\"colab-df-container\">\n",
              "      <div>\n",
              "<style scoped>\n",
              "    .dataframe tbody tr th:only-of-type {\n",
              "        vertical-align: middle;\n",
              "    }\n",
              "\n",
              "    .dataframe tbody tr th {\n",
              "        vertical-align: top;\n",
              "    }\n",
              "\n",
              "    .dataframe thead th {\n",
              "        text-align: right;\n",
              "    }\n",
              "</style>\n",
              "<table border=\"1\" class=\"dataframe\">\n",
              "  <thead>\n",
              "    <tr style=\"text-align: right;\">\n",
              "      <th></th>\n",
              "      <th>ID</th>\n",
              "      <th>Tweet</th>\n",
              "      <th>Candidate</th>\n",
              "      <th>Stance</th>\n",
              "      <th>Preproc_Tweet</th>\n",
              "      <th>Tokens</th>\n",
              "      <th>vader_sent</th>\n",
              "      <th>textblob_sent</th>\n",
              "    </tr>\n",
              "  </thead>\n",
              "  <tbody>\n",
              "    <tr>\n",
              "      <th>0</th>\n",
              "      <td>18363</td>\n",
              "      <td>@NAkufoAddo the mother serpent of corruption whoÃ¢â¬â¢s behaving as innnocent under anti- Corruption flower.\\n\\n~Martin A.Ã¢â¬Â¦ https://t.co/ZaTW75WkWc</td>\n",
              "      <td>Nana</td>\n",
              "      <td>-1.0</td>\n",
              "      <td>nana the mother serpent of corruption whos behaving as innnocent under anti- corruption flower\\n\\nmartin a</td>\n",
              "      <td>['nana', 'the', 'mother', 'serpent', 'of', 'corrupt', 'who', 'behav', 'as', 'innnoc', 'under', 'anti', 'corrupt', 'flower', 'martin', 'a']</td>\n",
              "      <td>-1</td>\n",
              "      <td>-1</td>\n",
              "    </tr>\n",
              "    <tr>\n",
              "      <th>1</th>\n",
              "      <td>80060</td>\n",
              "      <td>@JDMahama Ghanaians don't want your \"free anything\" biaa cuz your so-called \"Free SHS\" is NOT up to Nana Addo's FreÃ¢â¬Â¦ https://t.co/TGhl3S8c84</td>\n",
              "      <td>John</td>\n",
              "      <td>-1.0</td>\n",
              "      <td>mahama ghanaians don't want your free anything biaa cuz your so-called free shs is not up to nana addo's fre</td>\n",
              "      <td>['mahama', 'ghanaian', \"don't\", 'want', 'your', 'free', 'anyth', 'biaa', 'cuz', 'your', 'so-cal', 'free', 'sh', 'is', 'not', 'up', 'to', 'nana', \"addo'\", 'fre']</td>\n",
              "      <td>1</td>\n",
              "      <td>1</td>\n",
              "    </tr>\n",
              "    <tr>\n",
              "      <th>2</th>\n",
              "      <td>12015</td>\n",
              "      <td>@TogbeDzatse @NAkufoAddo To still be number 1 in stealing Ghanaian hard earned money.</td>\n",
              "      <td>Nana</td>\n",
              "      <td>-1.0</td>\n",
              "      <td>nana to still be number  in stealing ghanaian hard earned money</td>\n",
              "      <td>['nana', 'to', 'still', 'be', 'number', 'in', 'steal', 'ghanaian', 'hard', 'earn', 'money']</td>\n",
              "      <td>-1</td>\n",
              "      <td>-1</td>\n",
              "    </tr>\n",
              "    <tr>\n",
              "      <th>3</th>\n",
              "      <td>2035</td>\n",
              "      <td>@GHOneTV @NAkufoAddo @JDMahama Bias media you will continue to surfer under akuffo addo asotorwo</td>\n",
              "      <td>Nana</td>\n",
              "      <td>-1.0</td>\n",
              "      <td>nana mahama bias media you will continue to surfer under akuffo addo asotorwo</td>\n",
              "      <td>['nana', 'mahama', 'bia', 'media', 'you', 'will', 'continu', 'to', 'surfer', 'under', 'akuffo', 'addo', 'asotorwo']</td>\n",
              "      <td>-1</td>\n",
              "      <td>-1</td>\n",
              "    </tr>\n",
              "    <tr>\n",
              "      <th>4</th>\n",
              "      <td>73323</td>\n",
              "      <td>@Renowned_beast @Supremo06903924 @JDMahama Wait, in 2012 did u see npp behaving like this with useless press conferÃ¢â¬Â¦ https://t.co/AXuGHEszS0</td>\n",
              "      <td>John</td>\n",
              "      <td>-1.0</td>\n",
              "      <td>mahama wait in  did u see npp behaving like this with useless press confer</td>\n",
              "      <td>['mahama', 'wait', 'in', 'did', 'u', 'see', 'npp', 'behav', 'like', 'thi', 'with', 'useless', 'press', 'confer']</td>\n",
              "      <td>-1</td>\n",
              "      <td>-1</td>\n",
              "    </tr>\n",
              "  </tbody>\n",
              "</table>\n",
              "</div>\n",
              "      <button class=\"colab-df-convert\" onclick=\"convertToInteractive('df-6265ba94-d928-4e2d-a400-e750400a1ac2')\"\n",
              "              title=\"Convert this dataframe to an interactive table.\"\n",
              "              style=\"display:none;\">\n",
              "        \n",
              "  <svg xmlns=\"http://www.w3.org/2000/svg\" height=\"24px\"viewBox=\"0 0 24 24\"\n",
              "       width=\"24px\">\n",
              "    <path d=\"M0 0h24v24H0V0z\" fill=\"none\"/>\n",
              "    <path d=\"M18.56 5.44l.94 2.06.94-2.06 2.06-.94-2.06-.94-.94-2.06-.94 2.06-2.06.94zm-11 1L8.5 8.5l.94-2.06 2.06-.94-2.06-.94L8.5 2.5l-.94 2.06-2.06.94zm10 10l.94 2.06.94-2.06 2.06-.94-2.06-.94-.94-2.06-.94 2.06-2.06.94z\"/><path d=\"M17.41 7.96l-1.37-1.37c-.4-.4-.92-.59-1.43-.59-.52 0-1.04.2-1.43.59L10.3 9.45l-7.72 7.72c-.78.78-.78 2.05 0 2.83L4 21.41c.39.39.9.59 1.41.59.51 0 1.02-.2 1.41-.59l7.78-7.78 2.81-2.81c.8-.78.8-2.07 0-2.86zM5.41 20L4 18.59l7.72-7.72 1.47 1.35L5.41 20z\"/>\n",
              "  </svg>\n",
              "      </button>\n",
              "      \n",
              "  <style>\n",
              "    .colab-df-container {\n",
              "      display:flex;\n",
              "      flex-wrap:wrap;\n",
              "      gap: 12px;\n",
              "    }\n",
              "\n",
              "    .colab-df-convert {\n",
              "      background-color: #E8F0FE;\n",
              "      border: none;\n",
              "      border-radius: 50%;\n",
              "      cursor: pointer;\n",
              "      display: none;\n",
              "      fill: #1967D2;\n",
              "      height: 32px;\n",
              "      padding: 0 0 0 0;\n",
              "      width: 32px;\n",
              "    }\n",
              "\n",
              "    .colab-df-convert:hover {\n",
              "      background-color: #E2EBFA;\n",
              "      box-shadow: 0px 1px 2px rgba(60, 64, 67, 0.3), 0px 1px 3px 1px rgba(60, 64, 67, 0.15);\n",
              "      fill: #174EA6;\n",
              "    }\n",
              "\n",
              "    [theme=dark] .colab-df-convert {\n",
              "      background-color: #3B4455;\n",
              "      fill: #D2E3FC;\n",
              "    }\n",
              "\n",
              "    [theme=dark] .colab-df-convert:hover {\n",
              "      background-color: #434B5C;\n",
              "      box-shadow: 0px 1px 3px 1px rgba(0, 0, 0, 0.15);\n",
              "      filter: drop-shadow(0px 1px 2px rgba(0, 0, 0, 0.3));\n",
              "      fill: #FFFFFF;\n",
              "    }\n",
              "  </style>\n",
              "\n",
              "      <script>\n",
              "        const buttonEl =\n",
              "          document.querySelector('#df-6265ba94-d928-4e2d-a400-e750400a1ac2 button.colab-df-convert');\n",
              "        buttonEl.style.display =\n",
              "          google.colab.kernel.accessAllowed ? 'block' : 'none';\n",
              "\n",
              "        async function convertToInteractive(key) {\n",
              "          const element = document.querySelector('#df-6265ba94-d928-4e2d-a400-e750400a1ac2');\n",
              "          const dataTable =\n",
              "            await google.colab.kernel.invokeFunction('convertToInteractive',\n",
              "                                                     [key], {});\n",
              "          if (!dataTable) return;\n",
              "\n",
              "          const docLinkHtml = 'Like what you see? Visit the ' +\n",
              "            '<a target=\"_blank\" href=https://colab.research.google.com/notebooks/data_table.ipynb>data table notebook</a>'\n",
              "            + ' to learn more about interactive tables.';\n",
              "          element.innerHTML = '';\n",
              "          dataTable['output_type'] = 'display_data';\n",
              "          await google.colab.output.renderOutput(dataTable, element);\n",
              "          const docLink = document.createElement('div');\n",
              "          docLink.innerHTML = docLinkHtml;\n",
              "          element.appendChild(docLink);\n",
              "        }\n",
              "      </script>\n",
              "    </div>\n",
              "  </div>\n",
              "  "
            ]
          },
          "metadata": {},
          "execution_count": 25
        }
      ]
    },
    {
      "cell_type": "code",
      "metadata": {
        "id": "PfVMdB2mzJUN",
        "colab": {
          "base_uri": "https://localhost:8080/"
        },
        "outputId": "9474f5b3-d53d-49aa-ead0-09353f36af11"
      },
      "source": [
        "confusion_matrix(new_df['Stance'], new_df['vader_sent'])"
      ],
      "execution_count": 26,
      "outputs": [
        {
          "output_type": "execute_result",
          "data": {
            "text/plain": [
              "array([[804, 226],\n",
              "       [249, 781]])"
            ]
          },
          "metadata": {},
          "execution_count": 26
        }
      ]
    },
    {
      "cell_type": "code",
      "metadata": {
        "id": "4MvKs38czJUO",
        "colab": {
          "base_uri": "https://localhost:8080/"
        },
        "outputId": "251b2223-eda8-40e9-dd26-cc95e332ba1c"
      },
      "source": [
        "confusion_matrix(new_df['Stance'], new_df['textblob_sent'])"
      ],
      "execution_count": 27,
      "outputs": [
        {
          "output_type": "execute_result",
          "data": {
            "text/plain": [
              "array([[756, 274],\n",
              "       [319, 711]])"
            ]
          },
          "metadata": {},
          "execution_count": 27
        }
      ]
    },
    {
      "cell_type": "code",
      "metadata": {
        "id": "jxkHRLO1zJUP",
        "colab": {
          "base_uri": "https://localhost:8080/"
        },
        "outputId": "fe70e3e4-62cb-445e-f852-dad8e9a2914b"
      },
      "source": [
        "print(classification_report(new_df['Stance'], new_df['vader_sent'], digits=4))"
      ],
      "execution_count": 28,
      "outputs": [
        {
          "output_type": "stream",
          "name": "stdout",
          "text": [
            "              precision    recall  f1-score   support\n",
            "\n",
            "        -1.0     0.7635    0.7806    0.7720      1030\n",
            "         1.0     0.7756    0.7583    0.7668      1030\n",
            "\n",
            "    accuracy                         0.7694      2060\n",
            "   macro avg     0.7696    0.7694    0.7694      2060\n",
            "weighted avg     0.7696    0.7694    0.7694      2060\n",
            "\n"
          ]
        }
      ]
    },
    {
      "cell_type": "code",
      "metadata": {
        "id": "rSib-YYmzJUP",
        "colab": {
          "base_uri": "https://localhost:8080/"
        },
        "outputId": "2b89e5a7-ac2a-4c36-b17d-1e935b765594"
      },
      "source": [
        "print(classification_report(new_df['Stance'], new_df['textblob_sent'], digits=4))"
      ],
      "execution_count": 29,
      "outputs": [
        {
          "output_type": "stream",
          "name": "stdout",
          "text": [
            "              precision    recall  f1-score   support\n",
            "\n",
            "        -1.0     0.7033    0.7340    0.7183      1030\n",
            "         1.0     0.7218    0.6903    0.7057      1030\n",
            "\n",
            "    accuracy                         0.7121      2060\n",
            "   macro avg     0.7125    0.7121    0.7120      2060\n",
            "weighted avg     0.7125    0.7121    0.7120      2060\n",
            "\n"
          ]
        }
      ]
    }
  ]
}